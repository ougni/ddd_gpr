{
 "cells": [
  {
   "cell_type": "code",
   "execution_count": 1,
   "metadata": {},
   "outputs": [],
   "source": [
    "qui: {\n",
    "set more off\n",
    "use data/gruber_reg.dta, clear\n",
    "keep if year >=1978 & year <=1982\n",
    "\n",
    "ge mw_2040 = (female==1 & marst==1 & age <=40)\n",
    "ge sw_2040 = (marst == 6 & female==1 & age <=40) \n",
    "ge mm_2040 = (marst ==1 & female==0 & age <=40)\n",
    "\n",
    "cap drop treat\n",
    "ge treat = mw_2040\n",
    "replace treat =. if sw_2040 ==1 | mm_2040==1\n",
    "\n",
    "ta marst , ge(married)\n",
    "    \n",
    "ge marst_sex = marst*sex \n",
    "ta marst_sex , ge(marst_sex)\n",
    "\n",
    "ta ind , ge(ind)\n",
    "\n",
    "    \n",
    "global X educ_yrs experience experience_sq i.marst sex i.marst_sex non_white  i.ind \n",
    "global X_c educ_yrs experience experience_sq marst* sex marst_sex* non_white  ind* \n",
    "    \n",
    "ge after = (year >1980)\n",
    "ge log_hourly_wage = log(hourly_wage)\n",
    "\n",
    "ge treat_after = treat*after \n",
    "ge treat_experimental = treat*experimental\n",
    "ge experimental_after = experimental*after\n",
    "ge ddd = treat*experimental*after\n",
    "\n",
    "global my_dd treat treat_after treat_experimental  experimental_after ddd\n",
    "\n",
    "ge year_state = state*year\n",
    "ta year_state , ge(year_state)\n",
    "    \n",
    "}"
   ]
  },
  {
   "cell_type": "code",
   "execution_count": 2,
   "metadata": {},
   "outputs": [
    {
     "name": "stdout",
     "output_type": "stream",
     "text": [
      "\n",
      "\n",
      "Coef:-.02069387 SE:.01177483\n",
      "\n",
      "\n",
      "Coef:-.02067972 SE:.01177559\n",
      "\n",
      "\n",
      "year          weekly_hours  marst_sex6    ind21         ind45         ind69         ind93         ind117        ind141        ind165        ind189        ind213        year_state18  year_state42  year_state66  year_state90  year_sta~114  year_sta~138\n",
      "serial        yearly_hours  marst_sex7    ind22         ind46         ind70         ind94         ind118        ind142        ind166        ind190        after         year_state19  year_state43  year_state67  year_state91  year_sta~115  year_sta~139\n",
      "month         hourly_wage   marst_sex8    ind23         ind47         ind71         ind95         ind119        ind143        ind167        ind191        log_hourly~e  year_state20  year_state44  year_state68  year_state92  year_sta~116  year_sta~140\n",
      "asecflag      non_white     marst_sex9    ind24         ind48         ind72         ind96         ind120        ind144        ind168        ind192        treat_after   year_state21  year_state45  year_state69  year_state93  year_sta~117  year_sta~141\n",
      "asecwth       female        ind1          ind25         ind49         ind73         ind97         ind121        ind145        ind169        ind193        treat_expe~l  year_state22  year_state46  year_state70  year_state94  year_sta~118  year_sta~142\n",
      "statefip      single        ind2          ind26         ind50         ind74         ind98         ind122        ind146        ind170        ind194        experiment~r  year_state23  year_state47  year_state71  year_state95  year_sta~119  year_sta~143\n",
      "pernum        married       ind3          ind27         ind51         ind75         ind99         ind123        ind147        ind171        ind195        ddd           year_state24  year_state48  year_state72  year_state96  year_sta~120  year_sta~144\n",
      "asecwt        self1         ind4          ind28         ind52         ind76         ind100        ind124        ind148        ind172        ind196        year_state1   year_state25  year_state49  year_state73  year_state97  year_sta~121  year_sta~145\n",
      "age           self2         ind5          ind29         ind53         ind77         ind101        ind125        ind149        ind173        ind197        year_state2   year_state26  year_state50  year_state74  year_state98  year_sta~122  year_sta~146\n",
      "sex           mw_2040       ind6          ind30         ind54         ind78         ind102        ind126        ind150        ind174        ind198        year_state3   year_state27  year_state51  year_state75  year_state99  year_sta~123  year_sta~147\n",
      "race          sw_2040       ind7          ind31         ind55         ind79         ind103        ind127        ind151        ind175        ind199        year_state4   year_state28  year_state52  year_state76  year_sta~100  year_sta~124  year_sta~148\n",
      "classwkr      mm_2040       ind8          ind32         ind56         ind80         ind104        ind128        ind152        ind176        ind200        year_state5   year_state29  year_state53  year_state77  year_sta~101  year_sta~125  year_sta~149\n",
      "educ          treat         ind9          ind33         ind57         ind81         ind105        ind129        ind153        ind177        ind201        year_state6   year_state30  year_state54  year_state78  year_sta~102  year_sta~126  year_sta~150\n",
      "classwly      married1      ind10         ind34         ind58         ind82         ind106        ind130        ind154        ind178        ind202        year_state7   year_state31  year_state55  year_state79  year_sta~103  year_sta~127  year_sta~151\n",
      "wkswork1      married2      ind11         ind35         ind59         ind83         ind107        ind131        ind155        ind179        ind203        year_state8   year_state32  year_state56  year_state80  year_sta~104  year_sta~128  year_sta~152\n",
      "uhrsworkly    married3      ind12         ind36         ind60         ind84         ind108        ind132        ind156        ind180        ind204        year_state9   year_state33  year_state57  year_state81  year_sta~105  year_sta~129  year_sta~153\n",
      "incwage       married4      ind13         ind37         ind61         ind85         ind109        ind133        ind157        ind181        ind205        year_state10  year_state34  year_state58  year_state82  year_sta~106  year_sta~130  year_sta~154\n",
      "experimental  married5      ind14         ind38         ind62         ind86         ind110        ind134        ind158        ind182        ind206        year_state11  year_state35  year_state59  year_state83  year_sta~107  year_sta~131  year_sta~155\n",
      "before        married6      ind15         ind39         ind63         ind87         ind111        ind135        ind159        ind183        ind207        year_state12  year_state36  year_state60  year_state84  year_sta~108  year_sta~132  year_sta~156\n",
      "educ_yrs      marst_sex1    ind16         ind40         ind64         ind88         ind112        ind136        ind160        ind184        ind208        year_state13  year_state37  year_state61  year_state85  year_sta~109  year_sta~133  year_sta~157\n",
      "experience    marst_sex2    ind17         ind41         ind65         ind89         ind113        ind137        ind161        ind185        ind209        year_state14  year_state38  year_state62  year_state86  year_sta~110  year_sta~134  year_sta~158\n",
      "experience~q  marst_sex3    ind18         ind42         ind66         ind90         ind114        ind138        ind162        ind186        ind210        year_state15  year_state39  year_state63  year_state87  year_sta~111  year_sta~135  year_sta~159\n",
      "inc99         marst_sex4    ind19         ind43         ind67         ind91         ind115        ind139        ind163        ind187        ind211        year_state16  year_state40  year_state64  year_state88  year_sta~112  year_sta~136  year_sta~160\n",
      "yearly_inc    marst_sex5    ind20         ind44         ind68         ind92         ind116        ind140        ind164        ind188        ind212        year_state17  year_state41  year_state65  year_state89  year_sta~113  year_sta~137\n"
     ]
    }
   ],
   "source": [
    "qui: reg log_hourly_wage $X i.year_state $my_dd, robust\n",
    "di \"Coef:\"_b[ddd] \" SE:\" _se[ddd]\n",
    "qui: reg log_hourly_wage $X_c year_state* $my_dd, robust\n",
    "di \"Coef:\"_b[ddd] \" SE:\" _se[ddd]\n",
    "\n",
    "drop ind marst year_state marst_sex\n",
    "ds"
   ]
  },
  {
   "cell_type": "code",
   "execution_count": 3,
   "metadata": {},
   "outputs": [
    {
     "name": "stdout",
     "output_type": "stream",
     "text": [
      "\n",
      "\n",
      "file data/gruber_master.dta saved\n",
      "\n",
      "(55,939 observations deleted)\n",
      "\n",
      "\n",
      "    Result                           # of obs.\n",
      "    -----------------------------------------\n",
      "    not matched                            11\n",
      "        from master                         0  (_merge==1)\n",
      "        from using                         11  (_merge==2)\n",
      "\n",
      "    matched                           139,568  (_merge==3)\n",
      "    -----------------------------------------\n",
      "\n",
      "(11 observations deleted)\n",
      "\n"
     ]
    }
   ],
   "source": [
    "\n",
    "#delimit ;\n",
    "keep log_hourly_wage educ_yrs experience experience_sq marst* sex marst_sex* non_white  ind*  \n",
    " treat treat_after treat_experimental  experimental_after ddd\n",
    "year_state* statefip \n",
    ";\n",
    "#delimit cr \n",
    "\n",
    "save data/gruber_master.dta, replace\n",
    "* Policy Vars to Seperate \n",
    "keep if ddd !=.\n",
    "\n",
    "merge m:1 statefip using data/state_coordinate.dta \n",
    "keep if _merge ==3 \n",
    "drop _merge \n",
    "\n"
   ]
  },
  {
   "cell_type": "code",
   "execution_count": 8,
   "metadata": {},
   "outputs": [
    {
     "name": "stdout",
     "output_type": "stream",
     "text": [
      "\n",
      "marst_sex ambiguous abbreviation\n"
     ]
    },
    {
     "name": "stderr",
     "output_type": "stream",
     "text": [
      "r(111);\n",
      "r(111);\n"
     ]
    },
    {
     "name": "stdout",
     "output_type": "stream",
     "text": [
      "\n",
      "\n"
     ]
    }
   ],
   "source": [
    "drop state statefip\n",
    "\n",
    "save data/gruber_subset.dta, replace \n",
    "\n",
    "ds"
   ]
  },
  {
   "cell_type": "code",
   "execution_count": null,
   "metadata": {},
   "outputs": [],
   "source": []
  }
 ],
 "metadata": {
  "kernelspec": {
   "display_name": "Stata",
   "language": "stata",
   "name": "stata"
  },
  "language_info": {
   "codemirror_mode": "stata",
   "file_extension": ".do",
   "mimetype": "text/x-stata",
   "name": "stata",
   "version": "15.1"
  }
 },
 "nbformat": 4,
 "nbformat_minor": 4
}
