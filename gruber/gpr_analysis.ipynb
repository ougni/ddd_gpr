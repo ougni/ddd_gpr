{
 "cells": [
  {
   "cell_type": "code",
   "execution_count": 8,
   "metadata": {},
   "outputs": [],
   "source": [
    "clear all\n",
    "set more off\n",
    "\n",
    "use data/whitened_chunk_1.dta \n",
    "\n",
    "forvalues x=2/14{\n",
    "    append using data/whitened_chunk_`x'\n",
    "}\n",
    "\n"
   ]
  },
  {
   "cell_type": "code",
   "execution_count": 9,
   "metadata": {},
   "outputs": [
    {
     "name": "stdout",
     "output_type": "stream",
     "text": [
      "\n",
      "\n",
      "\n",
      "\n",
      "Coef:-.02060436 SE:.0117779\n"
     ]
    }
   ],
   "source": [
    "global X_c educ_yrs experience experience_sq marst* sex marst_sex* non_white  ind* \n",
    "global my_dd treat treat_after treat_experimental  experimental_after ddd\n",
    "qui: reg log_hourly_wage $X_c year_state* $my_dd, robust\n",
    "di \"Coef:\"_b[ddd] \" SE:\" _se[ddd]"
   ]
  },
  {
   "cell_type": "code",
   "execution_count": null,
   "metadata": {},
   "outputs": [],
   "source": [
    "Coef:-.02069387 SE:.01177483\n",
    "\n",
    "\n",
    "Coef:-.02067972 SE:.01177559"
   ]
  }
 ],
 "metadata": {
  "kernelspec": {
   "display_name": "Stata",
   "language": "stata",
   "name": "stata"
  },
  "language_info": {
   "codemirror_mode": "stata",
   "file_extension": ".do",
   "mimetype": "text/x-stata",
   "name": "stata",
   "version": "15.1"
  }
 },
 "nbformat": 4,
 "nbformat_minor": 4
}
