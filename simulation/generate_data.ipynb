{
 "cells": [
  {
   "cell_type": "markdown",
   "metadata": {},
   "source": [
    "# Post GP Estimator Robustness \n",
    "## Causal Data Generation"
   ]
  },
  {
   "cell_type": "code",
   "execution_count": 133,
   "metadata": {},
   "outputs": [],
   "source": [
    "import numpy as np\n",
    "import pandas as pd\n",
    "import matplotlib.pyplot as plt\n",
    "from scipy import stats \n",
    "%matplotlib inline\n",
    "from sklearn import datasets \n",
    "import seaborn as sns\n",
    "\n",
    "from statsmodels.tsa import arima_process \n",
    "\n",
    "from sklearn.gaussian_process.kernels import ConstantKernel, RBF, WhiteKernel\n",
    "from sklearn.gaussian_process import GaussianProcessClassifier, GaussianProcessRegressor "
   ]
  },
  {
   "cell_type": "markdown",
   "metadata": {},
   "source": [
    "__Causal Data__"
   ]
  },
  {
   "cell_type": "code",
   "execution_count": 134,
   "metadata": {},
   "outputs": [
    {
     "name": "stdout",
     "output_type": "stream",
     "text": [
      "high:(0.7199256515509557, 1.7918294802920872e-160) \n",
      " med: (0.5591049355469673, 2.6418249598285514e-83) \n",
      " low: (0.15084728146352522, 1.6538417536261343e-06)\n"
     ]
    }
   ],
   "source": [
    "np.random.seed(69)\n",
    "#x = arima_process.arma_generate_sample(ar=[1, -.9], ma=[1],  nsample=100)  \n",
    "#y = arima_process.arma_generate_sample(ar=[1, -.8], ma=[1], nsample=100)\n",
    "# phi parameters are negated \n",
    "x1= np.linspace(0,10, 1000)\n",
    "x2= np.sin(x1**2) \n",
    "\n",
    "x4 = np.random.choice(np.arange(1,50), 1000)\n",
    "x5 = np.random.choice(np.arange(50,100), 1000)\n",
    "\n",
    "x3_nn =  x5 + x4  # generation process actually depend on x5\n",
    "x3_high = x3_nn + np.random.normal(0, 1, 1000) \n",
    "x3_med = x3_nn + np.random.normal(0,15, 1000)\n",
    "x3_low = x3_nn + np.random.normal(0,100, 1000)\n",
    "\n",
    "print(f\"high:{stats.pearsonr(x5, x3_high)} \\n med: {stats.pearsonr(x5, x3_med)} \\n low: {stats.pearsonr(x5, x3_low)}\")"
   ]
  },
  {
   "cell_type": "code",
   "execution_count": 135,
   "metadata": {},
   "outputs": [
    {
     "name": "stdout",
     "output_type": "stream",
     "text": [
      "                 y           x1           x2        x3_nn      x3_high  \\\n",
      "count  1000.000000  1000.000000  1000.000000  1000.000000  1000.000000   \n",
      "mean     16.410458     5.000000     0.058070   100.326000   100.338578   \n",
      "std       3.100842     2.891085     0.689692    20.745701    20.795577   \n",
      "min      10.181842     0.000000    -0.999987    52.000000    51.465077   \n",
      "25%      13.978295     2.500000    -0.615909    85.000000    85.212311   \n",
      "50%      16.370703     5.000000     0.109760   100.000000   100.937288   \n",
      "75%      18.944874     7.500000     0.724484   116.000000   115.998077   \n",
      "max      24.048262    10.000000     0.999999   148.000000   146.986390   \n",
      "\n",
      "            x3_med       x3_low           x5  \n",
      "count  1000.000000  1000.000000  1000.000000  \n",
      "mean    100.139694    98.770663    74.524000  \n",
      "std      25.619513   102.304104    14.047375  \n",
      "min      23.285782  -255.068118    50.000000  \n",
      "25%      82.064478    28.769345    62.000000  \n",
      "50%     100.001875   103.530740    75.000000  \n",
      "75%     117.520758   167.451990    87.000000  \n",
      "max     176.652615   389.129560    99.000000  \n"
     ]
    }
   ],
   "source": [
    "# make the dataset \n",
    "y = 10 + 1*x1 + 2*x2 + .05*x4  + np.random.standard_normal(1000) * 0.2\n",
    "\n",
    "df = pd.DataFrame({'y':y, 'x1':x1 , 'x2':x2, 'x3_nn': x3_nn,\n",
    "                   'x3_high': x3_high, 'x3_med':x3_med, 'x3_low':x3_low ,\n",
    "                   'x5': x5 } )\n",
    "                  \n",
    "print(df.describe())\n",
    "df.to_stata('data/og_xy.dta', write_index=False) "
   ]
  },
  {
   "cell_type": "markdown",
   "metadata": {},
   "source": [
    "do gp stuff "
   ]
  },
  {
   "cell_type": "code",
   "execution_count": 136,
   "metadata": {},
   "outputs": [
    {
     "name": "stdout",
     "output_type": "stream",
     "text": [
      "for var:y - RBF(length_scale=1.16)\n",
      "for var:x1 - RBF(length_scale=0.936)\n",
      "for var:x2 - RBF(length_scale=1.09)\n",
      "for var:x3_nn - RBF(length_scale=1.28)\n",
      "for var:x3_high - RBF(length_scale=1.28)\n",
      "for var:x3_med - RBF(length_scale=1.15)\n",
      "for var:x3_low - RBF(length_scale=0.841)\n",
      "for var:x5 - RBF(length_scale=33.4)\n"
     ]
    }
   ],
   "source": [
    "#rbf = ConstantKernel(1.0) * RBF(length_scale=1.0)  #+ WhiteKernel(1)\n",
    "rbf = RBF(length_scale=1.0)\n",
    "gpr = GaussianProcessRegressor(kernel=rbf )\n",
    "\n",
    "#df = (df - df.mean()) # /df.std() \n",
    "#print(df.describe())\n",
    "      \n",
    "df2 = pd.DataFrame()\n",
    "\n",
    "\n",
    "for x in df.columns:\n",
    "    \n",
    "    # variable with respect to which we are whitening \n",
    "    y = df[x]\n",
    "    #print(y.mean())\n",
    "    \n",
    "    #X = np.asarray(df[[i for i in df.columns if i not in x ]]).reshape(-1,1)\n",
    "    #X = df[[i for i in df.columns if i not in x ]]\n",
    "    X = df[['x5']]\n",
    "    \n",
    "    gpr = GaussianProcessRegressor(kernel=rbf, alpha=.01 ).fit(X,y)\n",
    "    print(f\"for var:{x} - {gpr.kernel_}\")\n",
    "    \n",
    "    y_hat = gpr.predict(X)\n",
    "    #plt.plot(x ,y_hat)\n",
    "    \n",
    "    res = y - y_hat \n",
    "    df2[x] = res     \n",
    "\n",
    "df2.describe()\n",
    "\n",
    "#normalized_df=(df2-df2.mean())/df2.std() \n",
    "#normalized_df.to_stata('data/xy_wh.dta', write_index=False)\n",
    "df2.to_stata('data/xy_wh_corr.dta', write_index=False)"
   ]
  },
  {
   "cell_type": "markdown",
   "metadata": {},
   "source": [
    "# "
   ]
  }
 ],
 "metadata": {
  "kernelspec": {
   "display_name": "Python 3",
   "language": "python",
   "name": "python3"
  },
  "language_info": {
   "codemirror_mode": {
    "name": "ipython",
    "version": 3
   },
   "file_extension": ".py",
   "mimetype": "text/x-python",
   "name": "python",
   "nbconvert_exporter": "python",
   "pygments_lexer": "ipython3",
   "version": "3.6.9"
  }
 },
 "nbformat": 4,
 "nbformat_minor": 4
}
