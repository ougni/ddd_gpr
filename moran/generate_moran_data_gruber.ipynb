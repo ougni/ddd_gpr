{
 "cells": [
  {
   "cell_type": "code",
   "execution_count": 7,
   "metadata": {},
   "outputs": [
    {
     "name": "stdout",
     "output_type": "stream",
     "text": [
      "\n",
      "\n",
      ". ta year\n",
      "\n",
      "survey year |      Freq.     Percent        Cum.\n",
      "------------+-----------------------------------\n",
      "       1978 |     44,745       22.89       22.89\n",
      "       1979 |     45,543       23.29       46.18\n",
      "       1981 |     55,404       28.34       74.52\n",
      "       1982 |     49,815       25.48      100.00\n",
      "------------+-----------------------------------\n",
      "      Total |    195,507      100.00\n"
     ]
    }
   ],
   "source": [
    "qui: {\n",
    "set more off\n",
    "use data/gruber_reg.dta, clear\n",
    "keep if year >=1978 & year <=1982\n",
    "\n",
    "ge mw_2040 = (female==1 & marst==1 & age <=40)\n",
    "ge sw_2040 = (marst == 6 & female==1 & age <=40) \n",
    "ge mm_2040 = (marst ==1 & female==0 & age <=40)\n",
    "\n",
    "cap drop treat\n",
    "ge treat = mw_2040\n",
    "replace treat =. if sw_2040 ==1 | mm_2040==1\n",
    "    \n",
    "ge marst_sex = marst*sex \n",
    "\n",
    "    \n",
    "ge after = (year >1980)\n",
    "ge log_hourly_wage = log(hourly_wage)\n",
    "\n",
    "ge treat_after = treat*after \n",
    "ge treat_experimental = treat*experimental\n",
    "ge experimental_after = experimental*after\n",
    "ge ddd = treat*experimental*after\n",
    "\n",
    "global my_dd treat treat_after treat_experimental  experimental_after ddd\n",
    "\n",
    "ge year_state = state*year    \n",
    "}\n",
    "\n",
    "ta year"
   ]
  },
  {
   "cell_type": "code",
   "execution_count": 8,
   "metadata": {},
   "outputs": [
    {
     "name": "stdout",
     "output_type": "stream",
     "text": [
      "\n",
      "\n",
      "(55,939 observations deleted)\n",
      "\n",
      "\n",
      "    Result                           # of obs.\n",
      "    -----------------------------------------\n",
      "    not matched                            11\n",
      "        from master                         0  (_merge==1)\n",
      "        from using                         11  (_merge==2)\n",
      "\n",
      "    matched                           139,568  (_merge==3)\n",
      "    -----------------------------------------\n",
      "\n",
      "(11 observations deleted)\n",
      "\n",
      "\n",
      "file data/moran.dta saved\n",
      "\n",
      "\n",
      "survey year |      Freq.     Percent        Cum.\n",
      "------------+-----------------------------------\n",
      "       1978 |     31,964       22.90       22.90\n",
      "       1979 |     32,290       23.14       46.04\n",
      "       1981 |     39,563       28.35       74.38\n",
      "       1982 |     35,751       25.62      100.00\n",
      "------------+-----------------------------------\n",
      "      Total |    139,568      100.00\n"
     ]
    }
   ],
   "source": [
    "\n",
    "#delimit ;\n",
    "keep log_hourly_wage educ_yrs experience experience_sq marst sex marst_sex non_white  ind  \n",
    " treat treat_after treat_experimental  experimental_after ddd\n",
    "year_state statefip year experimental treat \n",
    ";\n",
    "#delimit cr \n",
    "\n",
    "keep if ddd !=.\n",
    "\n",
    "merge m:1 statefip using data/state_coordinate.dta \n",
    "keep if _merge ==3 \n",
    "drop _merge \n",
    "\n",
    "save data/moran.dta, replace \n",
    "ta year\n"
   ]
  },
  {
   "cell_type": "code",
   "execution_count": null,
   "metadata": {},
   "outputs": [],
   "source": []
  }
 ],
 "metadata": {
  "kernelspec": {
   "display_name": "Stata",
   "language": "stata",
   "name": "stata"
  },
  "language_info": {
   "codemirror_mode": "stata",
   "file_extension": ".do",
   "mimetype": "text/x-stata",
   "name": "stata",
   "version": "15.1"
  }
 },
 "nbformat": 4,
 "nbformat_minor": 4
}
